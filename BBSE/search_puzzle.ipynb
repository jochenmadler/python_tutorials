{
 "metadata": {
  "language_info": {
   "codemirror_mode": {
    "name": "ipython",
    "version": 3
   },
   "file_extension": ".py",
   "mimetype": "text/x-python",
   "name": "python",
   "nbconvert_exporter": "python",
   "pygments_lexer": "ipython3",
   "version": "3.8.5-final"
  },
  "orig_nbformat": 2,
  "kernelspec": {
   "name": "python385jvsc74a57bd0af7c290b4fe52c12cb4db0d9dfa626e2f5c939821cc0e69a761e89afc1357150",
   "display_name": "Python 3.8.5 64-bit ('tutorial': conda)"
  }
 },
 "nbformat": 4,
 "nbformat_minor": 2,
 "cells": [
  {
   "cell_type": "code",
   "execution_count": 38,
   "metadata": {},
   "outputs": [
    {
     "output_type": "stream",
     "name": "stdout",
     "text": [
      "x = 7852 creates a hash value of 1837, which is smaller than d = 3840. This took 0.00000180 seconds.\n"
     ]
    }
   ],
   "source": [
    "import time\n",
    "from hashlib import sha256\n",
    "puzzleID = 'BBSE_E01'\n",
    "d = 0x0000f00\n",
    "x = 0\n",
    "res = 0\n",
    "\n",
    "# check for different x values if hash value is < d\n",
    "while True:\n",
    "    t0 = time.perf_counter()\n",
    "    res = int(sha256(puzzleID.encode('utf8') + str(x).encode('utf8')).hexdigest()[:7],16)\n",
    "    if res < d:\n",
    "        t1 = time.perf_counter()\n",
    "        break\n",
    "    else:\n",
    "        x += 1\n",
    "\n",
    "msg = 'x = {0} creates a hash value of {2}, which is smaller than d = {3}. This took {1:0.8f} seconds.'.format(x, t1 - t0,res,d)\n",
    "print(msg)\n"
   ]
  }
 ]
}