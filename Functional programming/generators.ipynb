{
 "metadata": {
  "language_info": {
   "codemirror_mode": {
    "name": "ipython",
    "version": 3
   },
   "file_extension": ".py",
   "mimetype": "text/x-python",
   "name": "python",
   "nbconvert_exporter": "python",
   "pygments_lexer": "ipython3",
   "version": "3.8.5-final"
  },
  "orig_nbformat": 2,
  "kernelspec": {
   "name": "python385jvsc74a57bd0af7c290b4fe52c12cb4db0d9dfa626e2f5c939821cc0e69a761e89afc1357150",
   "display_name": "Python 3.8.5 64-bit ('tutorial': conda)"
  }
 },
 "nbformat": 4,
 "nbformat_minor": 2,
 "cells": [
  {
   "cell_type": "code",
   "execution_count": 3,
   "metadata": {},
   "outputs": [
    {
     "output_type": "stream",
     "name": "stdout",
     "text": [
      "5\n4\n3\n2\n1\n"
     ]
    }
   ],
   "source": [
    "# The yield statement is used to define a generator, replacing the return of a function to provide a result to its caller without destroying local variables.\n",
    "def countdown():\n",
    "    i = 5\n",
    "    while i > 0:\n",
    "        yield i # ?\n",
    "        i -= 1\n",
    "\n",
    "for i in countdown():\n",
    "    print(i)"
   ]
  },
  {
   "cell_type": "code",
   "execution_count": null,
   "metadata": {},
   "outputs": [],
   "source": [
    "# generators can be infinte - never terminates\n",
    "def infinite_ones():\n",
    "    while True:\n",
    "        yield 1\n",
    "    \n",
    "for i in infinite_ones(): # infinitely long list\n",
    "    print(i)"
   ]
  }
 ]
}