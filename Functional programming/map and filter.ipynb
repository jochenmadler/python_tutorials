{
 "metadata": {
  "language_info": {
   "codemirror_mode": {
    "name": "ipython",
    "version": 3
   },
   "file_extension": ".py",
   "mimetype": "text/x-python",
   "name": "python",
   "nbconvert_exporter": "python",
   "pygments_lexer": "ipython3",
   "version": "3.8.5-final"
  },
  "orig_nbformat": 2,
  "kernelspec": {
   "name": "python385jvsc74a57bd0af7c290b4fe52c12cb4db0d9dfa626e2f5c939821cc0e69a761e89afc1357150",
   "display_name": "Python 3.8.5 64-bit ('tutorial': conda)"
  }
 },
 "nbformat": 4,
 "nbformat_minor": 2,
 "cells": [
  {
   "cell_type": "code",
   "execution_count": 8,
   "metadata": {},
   "outputs": [
    {
     "output_type": "execute_result",
     "data": {
      "text/plain": [
       "[16, 27, 38, 49, 60]"
      ]
     },
     "metadata": {},
     "execution_count": 8
    }
   ],
   "source": [
    "# map takes a function and an iterable as arguments, and returns a new iterable with the function applied to each argument.\n",
    "def add_five(x):\n",
    "    return x + 5\n",
    "\n",
    "nums = [11, 22, 33, 44, 55]\n",
    "list(map(add_five, nums)) # maps function to list - adding five to each element in nums\n",
    "list(map(lambda x: x + 5, nums)) # same using lambda function -> this is used in practice to iterate over a list and manipulate each value (!)"
   ]
  },
  {
   "cell_type": "code",
   "execution_count": 9,
   "metadata": {},
   "outputs": [
    {
     "output_type": "execute_result",
     "data": {
      "text/plain": [
       "[22, 44, 66]"
      ]
     },
     "metadata": {},
     "execution_count": 9
    }
   ],
   "source": [
    "# map example 2: multiply each item in the list by 2\n",
    "nums = [11, 22, 33]\n",
    "list(map(lambda x: x*2, nums))"
   ]
  },
  {
   "cell_type": "code",
   "execution_count": 10,
   "metadata": {},
   "outputs": [
    {
     "output_type": "execute_result",
     "data": {
      "text/plain": [
       "[22, 44]"
      ]
     },
     "metadata": {},
     "execution_count": 10
    }
   ],
   "source": [
    "# filter filters an iterable by removing items that don't match a predicate (a function that returns a Boolean)\n",
    "nums = [11, 22, 33, 44, 55]\n",
    "list(filter(lambda x: x % 2 == 0, nums)) # filters out all values that are not multiples of 2"
   ]
  }
 ]
}