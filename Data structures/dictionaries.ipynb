{
 "metadata": {
  "language_info": {
   "codemirror_mode": {
    "name": "ipython",
    "version": 3
   },
   "file_extension": ".py",
   "mimetype": "text/x-python",
   "name": "python",
   "nbconvert_exporter": "python",
   "pygments_lexer": "ipython3",
   "version": "3.8.5-final"
  },
  "orig_nbformat": 2,
  "kernelspec": {
   "name": "python385jvsc74a57bd0af7c290b4fe52c12cb4db0d9dfa626e2f5c939821cc0e69a761e89afc1357150",
   "display_name": "Python 3.8.5 64-bit ('tutorial': conda)"
  }
 },
 "nbformat": 4,
 "nbformat_minor": 2,
 "cells": [
  {
   "cell_type": "code",
   "execution_count": 2,
   "metadata": {},
   "outputs": [
    {
     "output_type": "stream",
     "name": "stdout",
     "text": [
      "24\n"
     ]
    }
   ],
   "source": [
    "ages = {'Dave': 24, 'John': 33, 'Emma': 19}\n",
    "print(ages['Dave']) # indexing with keys instead of integers like in a list"
   ]
  },
  {
   "cell_type": "code",
   "execution_count": 4,
   "metadata": {},
   "outputs": [
    {
     "output_type": "stream",
     "name": "stdout",
     "text": [
      "{'Dave': 24, 'John': 33, 'Emma': 19, 'Mark': 55}\n"
     ]
    }
   ],
   "source": [
    "ages['Mark'] = 55 # new key adds new element\n",
    "print(ages)"
   ]
  },
  {
   "cell_type": "code",
   "execution_count": 8,
   "metadata": {},
   "outputs": [
    {
     "output_type": "stream",
     "name": "stdout",
     "text": [
      "True\nFalse\nTrue\n"
     ]
    }
   ],
   "source": [
    "# check whether certain key is contained in dict\n",
    "nums = {\n",
    "    1: 'one',\n",
    "    2: 'two',\n",
    "    3: 'three',\n",
    "}\n",
    "print(1 in nums) # true\n",
    "print('three' in nums) # false, since it is no key\n",
    "print(4 not in nums)"
   ]
  },
  {
   "cell_type": "code",
   "execution_count": 11,
   "metadata": {},
   "outputs": [
    {
     "output_type": "execute_result",
     "data": {
      "text/plain": [
       "'No such thing'"
      ]
     },
     "metadata": {},
     "execution_count": 11
    }
   ],
   "source": [
    "# safe way to look up values by key\n",
    "pairs = {\n",
    "    1: 'apple',\n",
    "    'orange': [2,3,4],\n",
    "    True: False,\n",
    "    False: True\n",
    "}\n",
    "pairs.get('orangge', 'No such thing') # get() is like indexing, but if no key 'orange' is found, it returns None by default or \"No such thing\""
   ]
  }
 ]
}