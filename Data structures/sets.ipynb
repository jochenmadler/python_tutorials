{
 "metadata": {
  "language_info": {
   "codemirror_mode": {
    "name": "ipython",
    "version": 3
   },
   "file_extension": ".py",
   "mimetype": "text/x-python",
   "name": "python",
   "nbconvert_exporter": "python",
   "pygments_lexer": "ipython3",
   "version": "3.8.5-final"
  },
  "orig_nbformat": 2,
  "kernelspec": {
   "name": "python385jvsc74a57bd0af7c290b4fe52c12cb4db0d9dfa626e2f5c939821cc0e69a761e89afc1357150",
   "display_name": "Python 3.8.5 64-bit ('tutorial': conda)"
  }
 },
 "nbformat": 4,
 "nbformat_minor": 2,
 "cells": [
  {
   "cell_type": "code",
   "execution_count": 1,
   "metadata": {},
   "outputs": [
    {
     "output_type": "stream",
     "name": "stdout",
     "text": [
      "True\n"
     ]
    }
   ],
   "source": [
    "# sets are unordered and cannot be indexed\n",
    "# they cannot contain duplicates\n",
    "num_set = {1,2,3,4,5}\n",
    "print(3 in num_set)"
   ]
  },
  {
   "cell_type": "code",
   "execution_count": 2,
   "metadata": {},
   "outputs": [],
   "source": [
    "# empty sets must be differentiated from dicts\n",
    "dict = {}\n",
    "set = set()"
   ]
  },
  {
   "cell_type": "code",
   "execution_count": 3,
   "metadata": {},
   "outputs": [
    {
     "output_type": "execute_result",
     "data": {
      "text/plain": [
       "{1, 2, 3, 4, 5, 6}"
      ]
     },
     "metadata": {},
     "execution_count": 3
    }
   ],
   "source": [
    "# list can be appended, set can be added\n",
    "num_set.add(6)\n",
    "num_set"
   ]
  },
  {
   "cell_type": "code",
   "execution_count": 4,
   "metadata": {},
   "outputs": [
    {
     "output_type": "execute_result",
     "data": {
      "text/plain": [
       "{1, 2, 3, 4, 5}"
      ]
     },
     "metadata": {},
     "execution_count": 4
    }
   ],
   "source": [
    "# remove - removes a specific element\n",
    "# pop - removes an arbitraray element\n",
    "num_set.remove(6)\n",
    "num_set"
   ]
  },
  {
   "cell_type": "code",
   "execution_count": 8,
   "metadata": {},
   "outputs": [
    {
     "output_type": "stream",
     "name": "stdout",
     "text": [
      "{1, 2, 3, 4, 5, 6, 7, 8, 9}\n{4, 5, 6}\n{1, 2, 3}\n{1, 2, 3, 7, 8, 9}\n"
     ]
    }
   ],
   "source": [
    "# | : union combines two sets by taking values that are in either one\n",
    "# & : intersection combines sets by taking values that are in both\n",
    "# - : difference combines sets by taking values that are in the first but not in the second\n",
    "# ^ : symmetric difference combine sets by taking values that are in one but not in the other\n",
    "first = {1, 2, 3, 4, 5, 6}\n",
    "second = {4, 5, 6, 7, 8, 9}\n",
    "\n",
    "print(first | second)\n",
    "print(first & second)\n",
    "print(first - second)\n",
    "print(first ^ second) # opposite of |"
   ]
  },
  {
   "cell_type": "code",
   "execution_count": null,
   "metadata": {},
   "outputs": [],
   "source": [
    "\n"
   ]
  }
 ]
}