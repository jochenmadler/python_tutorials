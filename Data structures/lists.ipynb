{
 "metadata": {
  "language_info": {
   "codemirror_mode": {
    "name": "ipython",
    "version": 3
   },
   "file_extension": ".py",
   "mimetype": "text/x-python",
   "name": "python",
   "nbconvert_exporter": "python",
   "pygments_lexer": "ipython3",
   "version": "3.8.5-final"
  },
  "orig_nbformat": 2,
  "kernelspec": {
   "name": "python385jvsc74a57bd0af7c290b4fe52c12cb4db0d9dfa626e2f5c939821cc0e69a761e89afc1357150",
   "display_name": "Python 3.8.5 64-bit ('tutorial': conda)"
  }
 },
 "nbformat": 4,
 "nbformat_minor": 2,
 "cells": [
  {
   "cell_type": "code",
   "execution_count": 1,
   "metadata": {},
   "outputs": [
    {
     "output_type": "execute_result",
     "data": {
      "text/plain": [
       "['x', 'w', 'y', 'z']"
      ]
     },
     "metadata": {},
     "execution_count": 1
    }
   ],
   "source": [
    "letters = ['x','y','z']\n",
    "letters.insert(1,'w') # insert 'w' at index 1\n",
    "letters"
   ]
  },
  {
   "cell_type": "code",
   "execution_count": 8,
   "metadata": {},
   "outputs": [
    {
     "output_type": "stream",
     "name": "stdout",
     "text": [
      "1\n3\n5\n7\n9\n"
     ]
    }
   ],
   "source": [
    "for i in range(1,10,2): # (from, to -1, stepsize)\n",
    "    print(i)"
   ]
  },
  {
   "cell_type": "code",
   "execution_count": 5,
   "metadata": {},
   "outputs": [
    {
     "output_type": "execute_result",
     "data": {
      "text/plain": [
       "[1, 2]"
      ]
     },
     "metadata": {},
     "execution_count": 5
    }
   ],
   "source": [
    "# list slicing\n",
    "list = [1,2,4,9,16,25,36,49]\n",
    "list[-2:] # from penultimate value to end\n",
    "list[0:2] # first value is included, second is not (from 0th to 1st)"
   ]
  },
  {
   "cell_type": "code",
   "execution_count": 27,
   "metadata": {},
   "outputs": [
    {
     "output_type": "stream",
     "name": "stdout",
     "text": [
      "[1, 4, 16]\n[49, 36, 25, 16, 9, 4, 2, 1]\n[49, 36]\n"
     ]
    }
   ],
   "source": [
    "# list slicing with step (third argument)\n",
    "list = [1,2,4,9,16,25,36,49]\n",
    "print(list[0:6:2]) # from 0th to 5th with a step size of two (every second value)\n",
    "\n",
    "# step size of -1 means the slice is done backwards\n",
    "print(list[::-1]) # reverses the list\n",
    "\n",
    "sqs = [0, 1, 4, 9, 16, 25, 36, 49, 64, 81]\n",
    "print(sqs[7:5:-1]) # [second: first-1: backwards]"
   ]
  },
  {
   "cell_type": "code",
   "execution_count": 28,
   "metadata": {},
   "outputs": [
    {
     "output_type": "stream",
     "name": "stdout",
     "text": [
      "[0, 1, 8, 27, 64]\n"
     ]
    }
   ],
   "source": [
    "# list comprehension\n",
    "cubes = [i**3 for i in range(5)]\n",
    "print(cubes)"
   ]
  },
  {
   "cell_type": "code",
   "execution_count": 1,
   "metadata": {},
   "outputs": [
    {
     "output_type": "stream",
     "name": "stdout",
     "text": [
      "[0, 8, 64]\n"
     ]
    }
   ],
   "source": [
    "# list comprehension with if-statement\n",
    "evens = [i**3 for i in range(5) if i**2 % 2 == 0]\n",
    "print(evens)"
   ]
  },
  {
   "cell_type": "code",
   "execution_count": 2,
   "metadata": {},
   "outputs": [
    {
     "output_type": "stream",
     "name": "stdout",
     "text": [
      "all values larger than 5\nat least one multiple of 5\n"
     ]
    }
   ],
   "source": [
    "# list function: all and any\n",
    "nums = [55, 44, 33, 22, 11]\n",
    "if all(i > 5 for i in nums):\n",
    "    print('all values larger than 5')\n",
    "if any(i % 5 == 0 for i in nums):\n",
    "    print('at least one multiple of 5')"
   ]
  },
  {
   "cell_type": "code",
   "execution_count": null,
   "metadata": {},
   "outputs": [],
   "source": []
  }
 ]
}