{
 "metadata": {
  "language_info": {
   "codemirror_mode": {
    "name": "ipython",
    "version": 3
   },
   "file_extension": ".py",
   "mimetype": "text/x-python",
   "name": "python",
   "nbconvert_exporter": "python",
   "pygments_lexer": "ipython3",
   "version": "3.8.5-final"
  },
  "orig_nbformat": 2,
  "kernelspec": {
   "name": "python385jvsc74a57bd0af7c290b4fe52c12cb4db0d9dfa626e2f5c939821cc0e69a761e89afc1357150",
   "display_name": "Python 3.8.5 64-bit"
  }
 },
 "nbformat": 4,
 "nbformat_minor": 2,
 "cells": [
  {
   "cell_type": "code",
   "execution_count": 3,
   "metadata": {},
   "outputs": [
    {
     "output_type": "stream",
     "name": "stdout",
     "text": [
      "spam!\n"
     ]
    }
   ],
   "source": [
    "def shout(word): # docstrings explain a function. They can have multiple lines.\n",
    "    \"\"\"\n",
    "    Print a word with an exclamation mark\n",
    "    \"\"\"\n",
    "    print(word + \"!\")\n",
    "shout(\"spam\")"
   ]
  },
  {
   "cell_type": "code",
   "execution_count": 4,
   "metadata": {},
   "outputs": [
    {
     "output_type": "stream",
     "name": "stdout",
     "text": [
      "shout!\n"
     ]
    }
   ],
   "source": [
    "def shout(word):\n",
    "   return word + \"!\"\n",
    "\n",
    "speak = shout\n",
    "output = speak(\"shout\")\n",
    "print(output) # functions can be handled like variables (essentially renaming)"
   ]
  },
  {
   "cell_type": "code",
   "execution_count": null,
   "metadata": {},
   "outputs": [],
   "source": []
  }
 ]
}