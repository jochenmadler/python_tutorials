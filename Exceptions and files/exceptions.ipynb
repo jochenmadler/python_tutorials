{
 "metadata": {
  "language_info": {
   "codemirror_mode": {
    "name": "ipython",
    "version": 3
   },
   "file_extension": ".py",
   "mimetype": "text/x-python",
   "name": "python",
   "nbconvert_exporter": "python",
   "pygments_lexer": "ipython3",
   "version": "3.8.5-final"
  },
  "orig_nbformat": 2,
  "kernelspec": {
   "name": "python385jvsc74a57bd0af7c290b4fe52c12cb4db0d9dfa626e2f5c939821cc0e69a761e89afc1357150",
   "display_name": "Python 3.8.5 64-bit ('tutorial': conda)"
  }
 },
 "nbformat": 4,
 "nbformat_minor": 2,
 "cells": [
  {
   "cell_type": "code",
   "execution_count": 2,
   "metadata": {},
   "outputs": [
    {
     "output_type": "stream",
     "name": "stdout",
     "text": [
      "hello\nprint this anyways\n"
     ]
    }
   ],
   "source": [
    "# basic structure\n",
    "try:\n",
    "    print(\"hello\")\n",
    "except NameError: # instead of NameError you can define none (leave blank) or multiple erorrs: except (NameError, ValueError):\n",
    "    print(\"Name error\")\n",
    "finally:\n",
    "    print(\"print this anyways\")"
   ]
  },
  {
   "cell_type": "code",
   "execution_count": 3,
   "metadata": {},
   "outputs": [
    {
     "output_type": "stream",
     "name": "stdout",
     "text": [
      "1\n2\n"
     ]
    }
   ],
   "source": [
    "# assertions\n",
    "print(1)\n",
    "assert 1-2 == -1 # is often done at the beginning and end of a function to check for valid input and output\n",
    "print(2)"
   ]
  },
  {
   "cell_type": "code",
   "execution_count": 6,
   "metadata": {},
   "outputs": [
    {
     "output_type": "stream",
     "name": "stdout",
     "text": [
      "-10\n"
     ]
    }
   ],
   "source": [
    "# assertions II: define an error message\n",
    "temp = -10\n",
    "try:\n",
    "    assert (temp >= 0), \"temp is colder than absolute zero\"\n",
    "except AssertionError: # asserionErrors can be handled like any other error\n",
    "    print(temp)"
   ]
  },
  {
   "cell_type": "code",
   "execution_count": null,
   "metadata": {},
   "outputs": [],
   "source": []
  }
 ]
}