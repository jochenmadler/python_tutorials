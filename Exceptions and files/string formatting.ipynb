{
 "metadata": {
  "language_info": {
   "codemirror_mode": {
    "name": "ipython",
    "version": 3
   },
   "file_extension": ".py",
   "mimetype": "text/x-python",
   "name": "python",
   "nbconvert_exporter": "python",
   "pygments_lexer": "ipython3",
   "version": "3.8.5-final"
  },
  "orig_nbformat": 2,
  "kernelspec": {
   "name": "python385jvsc74a57bd0af7c290b4fe52c12cb4db0d9dfa626e2f5c939821cc0e69a761e89afc1357150",
   "display_name": "Python 3.8.5 64-bit ('tutorial': conda)"
  }
 },
 "nbformat": 4,
 "nbformat_minor": 2,
 "cells": [
  {
   "cell_type": "code",
   "execution_count": 5,
   "metadata": {},
   "outputs": [
    {
     "output_type": "stream",
     "name": "stdout",
     "text": [
      "Numbers 4, 5, and 6\n"
     ]
    }
   ],
   "source": [
    "# string formatting using the format-function\n",
    "nums = [4,5,6]\n",
    "msg = 'Numbers {0}, {1}, and {2}'.format(nums[0], nums[1], nums[2])\n",
    "print(msg)"
   ]
  },
  {
   "cell_type": "code",
   "execution_count": 6,
   "metadata": {},
   "outputs": [
    {
     "output_type": "stream",
     "name": "stdout",
     "text": [
      "The value 5 is one more than 4 but one less than 6\n"
     ]
    }
   ],
   "source": [
    "# string formatting using named variables\n",
    "nums = [4,5,6]\n",
    "msg = 'The value {y} is one more than {x} but one less than {z}'.format(x=nums[0], y=nums[1], z = nums[2])\n",
    "print(msg)"
   ]
  },
  {
   "cell_type": "code",
   "execution_count": 7,
   "metadata": {},
   "outputs": [
    {
     "output_type": "stream",
     "name": "stdout",
     "text": [
      "spam, message, cake\n"
     ]
    }
   ],
   "source": [
    "# join - joins a list of strings with another string as a separator.\n",
    "print(', '.join(['spam', 'message', 'cake']))"
   ]
  },
  {
   "cell_type": "code",
   "execution_count": 8,
   "metadata": {},
   "outputs": [
    {
     "output_type": "stream",
     "name": "stdout",
     "text": [
      "Hello Mr. X\n"
     ]
    }
   ],
   "source": [
    "# replace - replaces one substring in a string with another.\n",
    "print('Hello Mr. ME'.replace('ME', 'X'))"
   ]
  },
  {
   "cell_type": "code",
   "execution_count": 11,
   "metadata": {},
   "outputs": [
    {
     "output_type": "stream",
     "name": "stdout",
     "text": [
      "True\nTrue\n"
     ]
    }
   ],
   "source": [
    "# startswith and endswith - determine if there is a substring at the start and end of a string, respectively.\n",
    "if \"this starts with\".startswith('this'):\n",
    "    print(True)\n",
    "if \"this starts with\".endswith('with'):\n",
    "    print(True)"
   ]
  },
  {
   "cell_type": "code",
   "execution_count": 12,
   "metadata": {},
   "outputs": [
    {
     "output_type": "stream",
     "name": "stdout",
     "text": [
      "THIS IS A TEXT\n"
     ]
    }
   ],
   "source": [
    "# upper and lower alternates the caps\n",
    "msg = \"this is a text\"\n",
    "print(msg.upper())"
   ]
  },
  {
   "cell_type": "code",
   "execution_count": 13,
   "metadata": {},
   "outputs": [
    {
     "output_type": "execute_result",
     "data": {
      "text/plain": [
       "['eggs', 'cheese', 'cake']"
      ]
     },
     "metadata": {},
     "execution_count": 13
    }
   ],
   "source": [
    "# split - opposite of join, turning a string with a certain separator into a list\n",
    "a = \"eggs, cheese, cake\"\n",
    "a.split(\", \")"
   ]
  },
  {
   "cell_type": "code",
   "execution_count": 16,
   "metadata": {},
   "outputs": [
    {
     "output_type": "stream",
     "name": "stdout",
     "text": [
      "testdoc\n"
     ]
    }
   ],
   "source": [
    "# get user input\n",
    "filename = input(\"Enter filename here: \")\n",
    "print(filename)"
   ]
  }
 ]
}